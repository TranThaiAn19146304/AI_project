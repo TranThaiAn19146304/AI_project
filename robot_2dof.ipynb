{
  "nbformat": 4,
  "nbformat_minor": 0,
  "metadata": {
    "colab": {
      "name": "robot_2dof.ipynb",
      "provenance": [],
      "collapsed_sections": [],
      "authorship_tag": "ABX9TyOcg+WnE3O2RrNpDCswsF/V",
      "include_colab_link": true
    },
    "kernelspec": {
      "name": "python3",
      "display_name": "Python 3"
    },
    "language_info": {
      "name": "python"
    },
    "accelerator": "GPU"
  },
  "cells": [
    {
      "cell_type": "markdown",
      "metadata": {
        "id": "view-in-github",
        "colab_type": "text"
      },
      "source": [
        "<a href=\"https://colab.research.google.com/github/TranThaiAn19146304/AI_project/blob/main/robot_2dof.ipynb\" target=\"_parent\"><img src=\"https://colab.research.google.com/assets/colab-badge.svg\" alt=\"Open In Colab\"/></a>"
      ]
    },
    {
      "cell_type": "markdown",
      "source": [
        "**BƯỚC 1: THÊM THƯ VIỆN BAN ĐẦU**"
      ],
      "metadata": {
        "id": "BCImwIFblz2h"
      }
    },
    {
      "cell_type": "code",
      "execution_count": 15,
      "metadata": {
        "id": "rPrjR8G-Vh1x"
      },
      "outputs": [],
      "source": [
        "#Thêm một số thư viện ban đầu\n",
        "from keras.models import Sequential\n",
        "from keras.layers import Dense, Activation, Dropout, BatchNormalization\n",
        "from sklearn.linear_model import Perceptron\n",
        "from sklearn.model_selection import train_test_split\n",
        "from sklearn.metrics import accuracy_score\n",
        "from tensorflow.keras.optimizers import Adam\n",
        "\n",
        "import matplotlib.pyplot as plt\n",
        "import numpy as np\n",
        "import keras\n",
        "import tensorflow as tf\n",
        "import pandas as pd"
      ]
    },
    {
      "cell_type": "code",
      "source": [
        "#tạo hàm con vẽ đồ thị\n",
        "def plot_history(history_fine):\n",
        "  f1 = history_fine.history['acc']\n",
        "  val_f1 = history_fine.history['val_acc']\n",
        "\n",
        "  loss = history_fine.history['loss']\n",
        "  val_loss = history_fine.history['val_loss']\n",
        "\n",
        "  plt.figure(figsize=(8, 8))\n",
        "  plt.subplot(2, 1, 1)\n",
        "  plt.plot(f1, label='Acc')\n",
        "  plt.plot(val_f1, label='Validation Acc')\n",
        "  plt.legend(loc='lower right')\n",
        "  plt.title('Accuracy')\n",
        "\n",
        "  plt.subplot(2, 1, 2)\n",
        "  plt.plot(loss, label='Loss')\n",
        "  plt.plot(val_loss, label='Validation Loss')\n",
        "  plt.legend(loc='upper right')\n",
        "  plt.title('Loss')\n",
        "  plt.xlabel('epoch')\n",
        "  plt.show()"
      ],
      "metadata": {
        "id": "1yw1UEufV3HK"
      },
      "execution_count": 16,
      "outputs": []
    },
    {
      "cell_type": "markdown",
      "source": [
        "**BƯỚC 2: TẠO DỮ LIỆU ( GHI FILE .CSV)**"
      ],
      "metadata": {
        "id": "KDBCL7q0mTDi"
      }
    },
    {
      "cell_type": "code",
      "source": [
        "from re import U\n",
        "import matplotlib.pyplot as plt\n",
        "import math\n",
        "import csv\n",
        "import numpy as np\n",
        "\n",
        "u = []\n",
        "for i in range(0,181,2):\n",
        "  z=[]\n",
        "  for j in range(0,181,2):\n",
        "    x=50*math.cos(math.radians(i))+40*math.cos(math.radians(i+j))\n",
        "    y=50*math.sin(math.radians(i))+40*math.sin(math.radians(i+j))\n",
        "    z.append(np.array((i,j,x,y)))\n",
        "  u.extend(z)"
      ],
      "metadata": {
        "id": "a_YlmONCVm8g"
      },
      "execution_count": 17,
      "outputs": []
    },
    {
      "cell_type": "code",
      "source": [
        "header = ['anpha', 'beta', 'x', 'y']\n",
        "with open('robot_2dof.csv', 'w', encoding='UTF8', newline='') as f:\n",
        "  writer = csv.writer(f)\n",
        "  # write the header\n",
        "  writer.writerow(header)\n",
        "  # write multiple rows\n",
        "  writer.writerows(u)"
      ],
      "metadata": {
        "id": "6U9lBQDXjnqh"
      },
      "execution_count": 18,
      "outputs": []
    },
    {
      "cell_type": "markdown",
      "source": [
        "**BƯỚC 3 : XỬ LÍ DATA**"
      ],
      "metadata": {
        "id": "FiR_DuhQjo8D"
      }
    },
    {
      "cell_type": "code",
      "source": [
        "data = pd.read_csv('robot_2dof.csv')\n",
        "data.shape\n",
        "numpy_dataset = data.values\n",
        "\n",
        "y=numpy_dataset[:,:2]\n",
        "x=numpy_dataset[:,2:]\n",
        "\n",
        "x_train,x_test,y_train,y_test = train_test_split(x,y,test_size=0.20)"
      ],
      "metadata": {
        "id": "T2SFL0OdVsq9"
      },
      "execution_count": 19,
      "outputs": []
    },
    {
      "cell_type": "markdown",
      "source": [
        "**BƯỚC 4: TẠO MODEL**"
      ],
      "metadata": {
        "id": "MnXPYGL6nZjd"
      }
    },
    {
      "cell_type": "code",
      "source": [
        "model = Sequential() \n",
        "model.add(Dense(128, activation='relu', input_shape = (2,))) \n",
        "model.add(Dense(64, activation='relu'))\n",
        "model.add(Dense(32, activation='relu'))\n",
        "model.add(Dense(16, activation='relu'))\n",
        "model.add(Dense(8, activation='relu'))\n",
        "model.add(Dense(4, activation='relu'))\n",
        "model.add(Dense(2))\n",
        "model.summary()\n",
        "model.compile(loss='mse', optimizer =Adam(), metrics=['acc'])\n",
        "history = model.fit(x_train, y_train, batch_size = 32, epochs = 50, validation_split = 0.2)"
      ],
      "metadata": {
        "colab": {
          "base_uri": "https://localhost:8080/"
        },
        "id": "5STzjOUxWMkO",
        "outputId": "c0a0d7b8-2f83-4aa6-a1f3-3d1764dc9ce7"
      },
      "execution_count": 27,
      "outputs": [
        {
          "output_type": "stream",
          "name": "stdout",
          "text": [
            "Model: \"sequential_2\"\n",
            "_________________________________________________________________\n",
            " Layer (type)                Output Shape              Param #   \n",
            "=================================================================\n",
            " dense_8 (Dense)             (None, 128)               384       \n",
            "                                                                 \n",
            " dense_9 (Dense)             (None, 64)                8256      \n",
            "                                                                 \n",
            " dense_10 (Dense)            (None, 32)                2080      \n",
            "                                                                 \n",
            " dense_11 (Dense)            (None, 16)                528       \n",
            "                                                                 \n",
            " dense_12 (Dense)            (None, 8)                 136       \n",
            "                                                                 \n",
            " dense_13 (Dense)            (None, 4)                 36        \n",
            "                                                                 \n",
            " dense_14 (Dense)            (None, 2)                 10        \n",
            "                                                                 \n",
            "=================================================================\n",
            "Total params: 11,430\n",
            "Trainable params: 11,430\n",
            "Non-trainable params: 0\n",
            "_________________________________________________________________\n",
            "Epoch 1/50\n",
            "166/166 [==============================] - 2s 6ms/step - loss: 5546.0522 - acc: 0.5918 - val_loss: 3953.5842 - val_acc: 0.6626\n",
            "Epoch 2/50\n",
            "166/166 [==============================] - 1s 5ms/step - loss: 3922.6277 - acc: 0.6750 - val_loss: 3731.1558 - val_acc: 0.6642\n",
            "Epoch 3/50\n",
            "166/166 [==============================] - 1s 5ms/step - loss: 3537.9722 - acc: 0.6931 - val_loss: 2754.7942 - val_acc: 0.7306\n",
            "Epoch 4/50\n",
            "166/166 [==============================] - 1s 5ms/step - loss: 984.6908 - acc: 0.8626 - val_loss: 490.1385 - val_acc: 0.8611\n",
            "Epoch 5/50\n",
            "166/166 [==============================] - 1s 5ms/step - loss: 297.8074 - acc: 0.8964 - val_loss: 234.2720 - val_acc: 0.9057\n",
            "Epoch 6/50\n",
            "166/166 [==============================] - 1s 5ms/step - loss: 187.6322 - acc: 0.9121 - val_loss: 146.3742 - val_acc: 0.9155\n",
            "Epoch 7/50\n",
            "166/166 [==============================] - 1s 5ms/step - loss: 101.0725 - acc: 0.9309 - val_loss: 71.5286 - val_acc: 0.9155\n",
            "Epoch 8/50\n",
            "166/166 [==============================] - 1s 5ms/step - loss: 66.9085 - acc: 0.9432 - val_loss: 57.6861 - val_acc: 0.9411\n",
            "Epoch 9/50\n",
            "166/166 [==============================] - 1s 5ms/step - loss: 51.0009 - acc: 0.9445 - val_loss: 34.7047 - val_acc: 0.9313\n",
            "Epoch 10/50\n",
            "166/166 [==============================] - 1s 5ms/step - loss: 42.3024 - acc: 0.9509 - val_loss: 30.0746 - val_acc: 0.9494\n",
            "Epoch 11/50\n",
            "166/166 [==============================] - 1s 5ms/step - loss: 37.1690 - acc: 0.9564 - val_loss: 44.2481 - val_acc: 0.9630\n",
            "Epoch 12/50\n",
            "166/166 [==============================] - 1s 5ms/step - loss: 34.7832 - acc: 0.9643 - val_loss: 20.4160 - val_acc: 0.9691\n",
            "Epoch 13/50\n",
            "166/166 [==============================] - 1s 5ms/step - loss: 29.7299 - acc: 0.9694 - val_loss: 31.2773 - val_acc: 0.9721\n",
            "Epoch 14/50\n",
            "166/166 [==============================] - 1s 5ms/step - loss: 24.6238 - acc: 0.9700 - val_loss: 33.6597 - val_acc: 0.9675\n",
            "Epoch 15/50\n",
            "166/166 [==============================] - 1s 5ms/step - loss: 24.1545 - acc: 0.9691 - val_loss: 16.8128 - val_acc: 0.9706\n",
            "Epoch 16/50\n",
            "166/166 [==============================] - 1s 5ms/step - loss: 23.0092 - acc: 0.9700 - val_loss: 22.6347 - val_acc: 0.9570\n",
            "Epoch 17/50\n",
            "166/166 [==============================] - 1s 5ms/step - loss: 26.9682 - acc: 0.9683 - val_loss: 30.0605 - val_acc: 0.9728\n",
            "Epoch 18/50\n",
            "166/166 [==============================] - 1s 5ms/step - loss: 28.6286 - acc: 0.9702 - val_loss: 14.3867 - val_acc: 0.9736\n",
            "Epoch 19/50\n",
            "166/166 [==============================] - 1s 5ms/step - loss: 18.2993 - acc: 0.9749 - val_loss: 34.8871 - val_acc: 0.9736\n",
            "Epoch 20/50\n",
            "166/166 [==============================] - 1s 5ms/step - loss: 23.2383 - acc: 0.9715 - val_loss: 18.2556 - val_acc: 0.9540\n",
            "Epoch 21/50\n",
            "166/166 [==============================] - 1s 5ms/step - loss: 15.7509 - acc: 0.9768 - val_loss: 37.0893 - val_acc: 0.9449\n",
            "Epoch 22/50\n",
            "166/166 [==============================] - 1s 5ms/step - loss: 18.5144 - acc: 0.9732 - val_loss: 12.4938 - val_acc: 0.9713\n",
            "Epoch 23/50\n",
            "166/166 [==============================] - 1s 5ms/step - loss: 20.9685 - acc: 0.9732 - val_loss: 20.6261 - val_acc: 0.9660\n",
            "Epoch 24/50\n",
            "166/166 [==============================] - 1s 5ms/step - loss: 19.2119 - acc: 0.9783 - val_loss: 22.0273 - val_acc: 0.9743\n",
            "Epoch 25/50\n",
            "166/166 [==============================] - 1s 5ms/step - loss: 22.3547 - acc: 0.9691 - val_loss: 11.5148 - val_acc: 0.9698\n",
            "Epoch 26/50\n",
            "166/166 [==============================] - 1s 5ms/step - loss: 16.8273 - acc: 0.9740 - val_loss: 15.8428 - val_acc: 0.9668\n",
            "Epoch 27/50\n",
            "166/166 [==============================] - 1s 5ms/step - loss: 18.0141 - acc: 0.9796 - val_loss: 11.5585 - val_acc: 0.9743\n",
            "Epoch 28/50\n",
            "166/166 [==============================] - 1s 5ms/step - loss: 31.0675 - acc: 0.9658 - val_loss: 11.7414 - val_acc: 0.9758\n",
            "Epoch 29/50\n",
            "166/166 [==============================] - 1s 5ms/step - loss: 19.5376 - acc: 0.9747 - val_loss: 13.5310 - val_acc: 0.9774\n",
            "Epoch 30/50\n",
            "166/166 [==============================] - 1s 5ms/step - loss: 14.1186 - acc: 0.9783 - val_loss: 14.3348 - val_acc: 0.9721\n",
            "Epoch 31/50\n",
            "166/166 [==============================] - 1s 5ms/step - loss: 17.5571 - acc: 0.9753 - val_loss: 39.0937 - val_acc: 0.9691\n",
            "Epoch 32/50\n",
            "166/166 [==============================] - 1s 5ms/step - loss: 20.0219 - acc: 0.9732 - val_loss: 16.9726 - val_acc: 0.9766\n",
            "Epoch 33/50\n",
            "166/166 [==============================] - 1s 5ms/step - loss: 12.7314 - acc: 0.9779 - val_loss: 14.4802 - val_acc: 0.9660\n",
            "Epoch 34/50\n",
            "166/166 [==============================] - 1s 5ms/step - loss: 16.4879 - acc: 0.9721 - val_loss: 11.6370 - val_acc: 0.9774\n",
            "Epoch 35/50\n",
            "166/166 [==============================] - 1s 5ms/step - loss: 18.3632 - acc: 0.9755 - val_loss: 11.6448 - val_acc: 0.9796\n",
            "Epoch 36/50\n",
            "166/166 [==============================] - 1s 5ms/step - loss: 15.3988 - acc: 0.9753 - val_loss: 11.6931 - val_acc: 0.9683\n",
            "Epoch 37/50\n",
            "166/166 [==============================] - 1s 5ms/step - loss: 23.1324 - acc: 0.9724 - val_loss: 13.4309 - val_acc: 0.9698\n",
            "Epoch 38/50\n",
            "166/166 [==============================] - 1s 5ms/step - loss: 20.0029 - acc: 0.9726 - val_loss: 22.1234 - val_acc: 0.9570\n",
            "Epoch 39/50\n",
            "166/166 [==============================] - 1s 5ms/step - loss: 16.2718 - acc: 0.9766 - val_loss: 10.5211 - val_acc: 0.9698\n",
            "Epoch 40/50\n",
            "166/166 [==============================] - 1s 5ms/step - loss: 20.3845 - acc: 0.9726 - val_loss: 20.1148 - val_acc: 0.9600\n",
            "Epoch 41/50\n",
            "166/166 [==============================] - 1s 5ms/step - loss: 19.1783 - acc: 0.9723 - val_loss: 11.7101 - val_acc: 0.9811\n",
            "Epoch 42/50\n",
            "166/166 [==============================] - 1s 5ms/step - loss: 14.6625 - acc: 0.9772 - val_loss: 11.7174 - val_acc: 0.9743\n",
            "Epoch 43/50\n",
            "166/166 [==============================] - 1s 5ms/step - loss: 23.2576 - acc: 0.9706 - val_loss: 41.4055 - val_acc: 0.9487\n",
            "Epoch 44/50\n",
            "166/166 [==============================] - 1s 5ms/step - loss: 25.8596 - acc: 0.9677 - val_loss: 18.6433 - val_acc: 0.9630\n",
            "Epoch 45/50\n",
            "166/166 [==============================] - 1s 5ms/step - loss: 14.3454 - acc: 0.9785 - val_loss: 15.0036 - val_acc: 0.9675\n",
            "Epoch 46/50\n",
            "166/166 [==============================] - 1s 5ms/step - loss: 17.5399 - acc: 0.9749 - val_loss: 7.3063 - val_acc: 0.9796\n",
            "Epoch 47/50\n",
            "166/166 [==============================] - 1s 5ms/step - loss: 17.2669 - acc: 0.9707 - val_loss: 6.7565 - val_acc: 0.9857\n",
            "Epoch 48/50\n",
            "166/166 [==============================] - 1s 5ms/step - loss: 13.5559 - acc: 0.9747 - val_loss: 13.8563 - val_acc: 0.9849\n",
            "Epoch 49/50\n",
            "166/166 [==============================] - 1s 5ms/step - loss: 13.6799 - acc: 0.9758 - val_loss: 6.0556 - val_acc: 0.9849\n",
            "Epoch 50/50\n",
            "166/166 [==============================] - 1s 5ms/step - loss: 15.1514 - acc: 0.9762 - val_loss: 8.4476 - val_acc: 0.9796\n"
          ]
        }
      ]
    },
    {
      "cell_type": "markdown",
      "source": [
        "**BƯỚC 5: KIỂM TRA CHẤT LƯỢNG**"
      ],
      "metadata": {
        "id": "--9hwQLZoBk0"
      }
    },
    {
      "cell_type": "code",
      "source": [
        "score=model.evaluate(x_test,y_test,verbose=0)\n",
        "print('sai so kiem tra la',score[0])\n",
        "print('do chinh xac kiem tra',score[1])\n",
        "plot_history(history)"
      ],
      "metadata": {
        "colab": {
          "base_uri": "https://localhost:8080/",
          "height": 550
        },
        "id": "5B-HOOyUjx15",
        "outputId": "fbec8127-eb45-490f-a005-c5e9f4be78e8"
      },
      "execution_count": 28,
      "outputs": [
        {
          "output_type": "stream",
          "name": "stdout",
          "text": [
            "sai so kiem tra la 8.956902503967285\n",
            "do chinh xac kiem tra 0.9843090176582336\n"
          ]
        },
        {
          "output_type": "display_data",
          "data": {
            "text/plain": [
              "<Figure size 576x576 with 2 Axes>"
            ],
            "image/png": "[encoded data removed]"
          },
          "metadata": {
            "needs_background": "light"
          }
        }
      ]
    },
    {
      "cell_type": "markdown",
      "source": [
        "**BƯỚC 6 : NHẬN DẠNG**"
      ],
      "metadata": {
        "id": "kSoaY5svn4ob"
      }
    },
    {
      "cell_type": "code",
      "source": [
        "px = float(input(\"nhập px : \"))\n",
        "py = float(input(\"nhập py : \"))\n",
        "test = model.predict([[px,py]])\n",
        "t1 = test[0][0]\n",
        "t2 = test[0][1]\n",
        "x=50*math.cos(math.radians(t1))+40*math.cos(math.radians(t1+t2))\n",
        "y=50*math.sin(math.radians(t1))+40*math.sin(math.radians(t1+t2))\n",
        "print(\"Dự đoán : \" + \"t1: \" + str(t1) + \", \" + \"t2: \" + str(t2))\n",
        "print(\"Dự đoán : \" + \"px: \" + str(x) + \", \" + \"py: \" + str(y))\n"
      ],
      "metadata": {
        "colab": {
          "base_uri": "https://localhost:8080/"
        },
        "id": "73VvVZEqj5PQ",
        "outputId": "6f142f04-bd02-4094-91bb-6a535f18814a"
      },
      "execution_count": 38,
      "outputs": [
        {
          "output_type": "stream",
          "name": "stdout",
          "text": [
            "nhập px : 45\n",
            "nhập py : 54\n",
            "Dự đoán : t1: 16.507948, t2: 76.59157\n",
            "Dự đoán : px: 45.776200000264005, py: 54.14890236357398\n"
          ]
        }
      ]
    },
    {
      "cell_type": "markdown",
      "source": [
        "**BƯỚC 7 : LƯU MODEL**"
      ],
      "metadata": {
        "id": "-gQDlCdon3VF"
      }
    },
    {
      "cell_type": "code",
      "source": [
        "model.save('Robot_2dof.h5')"
      ],
      "metadata": {
        "id": "LAHAFyxqnygg"
      },
      "execution_count": null,
      "outputs": []
    }
  ]
}