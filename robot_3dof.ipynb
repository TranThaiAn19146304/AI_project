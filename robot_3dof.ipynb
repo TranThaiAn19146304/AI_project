{
  "nbformat": 4,
  "nbformat_minor": 0,
  "metadata": {
    "colab": {
      "name": "robot_3dof.ipynb",
      "provenance": [],
      "collapsed_sections": [],
      "authorship_tag": "ABX9TyO/tky23rHSz+g/T1hRXfZN",
      "include_colab_link": true
    },
    "kernelspec": {
      "name": "python3",
      "display_name": "Python 3"
    },
    "language_info": {
      "name": "python"
    },
    "accelerator": "GPU"
  },
  "cells": [
    {
      "cell_type": "markdown",
      "metadata": {
        "id": "view-in-github",
        "colab_type": "text"
      },
      "source": [
        "<a href=\"https://colab.research.google.com/github/TranThaiAn19146304/AI_project/blob/main/robot_3dof.ipynb\" target=\"_parent\"><img src=\"https://colab.research.google.com/assets/colab-badge.svg\" alt=\"Open In Colab\"/></a>"
      ]
    },
    {
      "cell_type": "markdown",
      "source": [
        "**BƯỚC 1: THÊM THƯ VIỆN BAN DẦU**"
      ],
      "metadata": {
        "id": "P0cYHb4Oplf2"
      }
    },
    {
      "cell_type": "code",
      "execution_count": 4,
      "metadata": {
        "id": "zg0BEMONr4_U"
      },
      "outputs": [],
      "source": [
        "#một số thư viện cần thiết ban đầu\n",
        "import matplotlib.pyplot as plt\n",
        "import numpy as np\n",
        "import keras\n",
        "import tensorflow as tf\n",
        "import pandas as pd\n",
        "\n",
        "from keras.models import Sequential\n",
        "from keras.layers import Dense, Activation, Dropout, BatchNormalization\n",
        "from sklearn.linear_model import Perceptron\n",
        "from sklearn.model_selection import train_test_split\n",
        "from sklearn.metrics import accuracy_score\n",
        "from tensorflow.keras.optimizers import Adam"
      ]
    },
    {
      "cell_type": "code",
      "source": [
        "#tạo hàm con vẽ đồ thị chất lượng\n",
        "def plot_history(history_fine):\n",
        "  f1 = history_fine.history['acc']\n",
        "  val_f1 = history_fine.history['val_acc']\n",
        "\n",
        "  loss = history_fine.history['loss']\n",
        "  val_loss = history_fine.history['val_loss']\n",
        "\n",
        "  plt.figure(figsize=(8, 8))\n",
        "  plt.subplot(2, 1, 1)\n",
        "  plt.plot(f1, label='Acc')\n",
        "  plt.plot(val_f1, label='Validation Acc')\n",
        "  plt.legend(loc='lower right')\n",
        "  plt.title('Accuracy')\n",
        "\n",
        "  plt.subplot(2, 1, 2)\n",
        "  plt.plot(loss, label='Loss')\n",
        "  plt.plot(val_loss, label='Validation Loss')\n",
        "  plt.legend(loc='upper right')\n",
        "  plt.title('Loss')\n",
        "  plt.xlabel('epoch')\n",
        "  plt.show()"
      ],
      "metadata": {
        "id": "xHEGIO-8sMYn"
      },
      "execution_count": 5,
      "outputs": []
    },
    {
      "cell_type": "markdown",
      "source": [
        "**BƯỚC 2: TẠO DỮ LIỆU (GHI VÀO FILE .CSV)**"
      ],
      "metadata": {
        "id": "yfJcO2k-p6a8"
      }
    },
    {
      "cell_type": "code",
      "source": [
        "from re import U\n",
        "import matplotlib.pyplot as plt\n",
        "import math\n",
        "import csv\n",
        "import numpy as np\n",
        "u=[]\n",
        "z=[]\n",
        "for i in range(0,121,3):\n",
        "  for j in range(0,91,3):\n",
        "    for k in range (0,91,3):\n",
        "      x=50*math.cos(math.radians(i))+40*math.cos(math.radians(i+j))+30*math.cos(math.radians(i+j+k))\n",
        "      y=50*math.sin(math.radians(i))+40*math.sin(math.radians(i+j))+30*math.sin(math.radians(i+j+k))\n",
        "      t=i+j+k\n",
        "      z.append(np.array((i,j,k,x,y,t)))\n",
        "  u.extend(z)"
      ],
      "metadata": {
        "id": "bh5xlh_Jr_9S"
      },
      "execution_count": 6,
      "outputs": []
    },
    {
      "cell_type": "code",
      "source": [
        "header = ['anpha', 'beta','delta', 'x', 'y','phi']\n",
        "with open('robot_3dof.csv', 'w', encoding='UTF8', newline='') as f:\n",
        "    writer = csv.writer(f)\n",
        "    writer.writerow(header)\n",
        "    writer.writerows(u)"
      ],
      "metadata": {
        "id": "aqpy_K1FsBey"
      },
      "execution_count": 7,
      "outputs": []
    },
    {
      "cell_type": "markdown",
      "source": [
        "**BƯỚC 3: XỬ LÍ DỮ LIỆU**"
      ],
      "metadata": {
        "id": "hBxlNlYZqJHA"
      }
    },
    {
      "cell_type": "code",
      "source": [
        "data = pd.read_csv('robot_3dof.csv')\n",
        "data.shape\n",
        "numpy_dataset = data.values\n",
        "y=numpy_dataset[:,:3]\n",
        "x=numpy_dataset[:,3:]\n",
        "x_train,x_test,y_train,y_test = train_test_split(x,y,test_size=0.20)"
      ],
      "metadata": {
        "id": "ewg8E8W0sDcN"
      },
      "execution_count": null,
      "outputs": []
    },
    {
      "cell_type": "markdown",
      "source": [
        "**BƯỚC 4:TẠO MODEL**"
      ],
      "metadata": {
        "id": "PB7PXPhDqW2N"
      }
    },
    {
      "cell_type": "code",
      "source": [
        "model=Sequential()\n",
        "model.add(Dense(162, activation='relu', input_shape = (3,))) \n",
        "model.add(Dense(54, activation='relu'))\n",
        "model.add(Dense(27, activation='relu'))\n",
        "model.add(Dense(9, activation='relu'))\n",
        "model.add(Dense(3,  activation='linear'))\n",
        "model.summary()\n",
        "model.compile(loss='mse', optimizer =Adam(), metrics=['acc'])\n",
        "history = model.fit(x_train, y_train, batch_size = 32, epochs = 20, validation_split = 0.2)"
      ],
      "metadata": {
        "colab": {
          "base_uri": "https://localhost:8080/"
        },
        "id": "jOF387DSsF7M",
        "outputId": "bea2329a-3adc-4b7e-e685-21bc06648b13"
      },
      "execution_count": 10,
      "outputs": [
        {
          "output_type": "stream",
          "name": "stdout",
          "text": [
            "Model: \"sequential_2\"\n",
            "_________________________________________________________________\n",
            " Layer (type)                Output Shape              Param #   \n",
            "=================================================================\n",
            " dense_10 (Dense)            (None, 162)               648       \n",
            "                                                                 \n",
            " dense_11 (Dense)            (None, 54)                8802      \n",
            "                                                                 \n",
            " dense_12 (Dense)            (None, 27)                1485      \n",
            "                                                                 \n",
            " dense_13 (Dense)            (None, 9)                 252       \n",
            "                                                                 \n",
            " dense_14 (Dense)            (None, 3)                 30        \n",
            "                                                                 \n",
            "=================================================================\n",
            "Total params: 11,217\n",
            "Trainable params: 11,217\n",
            "Non-trainable params: 0\n",
            "_________________________________________________________________\n",
            "Epoch 1/20\n",
            "16549/16549 [==============================] - 77s 4ms/step - loss: 164.7829 - acc: 0.7417 - val_loss: 34.6613 - val_acc: 0.8623\n",
            "Epoch 2/20\n",
            "16549/16549 [==============================] - 71s 4ms/step - loss: 18.7489 - acc: 0.9358 - val_loss: 13.3771 - val_acc: 0.9476\n",
            "Epoch 3/20\n",
            "16549/16549 [==============================] - 72s 4ms/step - loss: 14.9849 - acc: 0.9437 - val_loss: 21.7267 - val_acc: 0.9363\n",
            "Epoch 4/20\n",
            "16549/16549 [==============================] - 74s 4ms/step - loss: 13.2285 - acc: 0.9475 - val_loss: 6.4748 - val_acc: 0.9551\n",
            "Epoch 5/20\n",
            "16549/16549 [==============================] - 72s 4ms/step - loss: 11.8162 - acc: 0.9510 - val_loss: 7.2308 - val_acc: 0.9651\n",
            "Epoch 6/20\n",
            "16549/16549 [==============================] - 71s 4ms/step - loss: 10.8992 - acc: 0.9539 - val_loss: 3.3781 - val_acc: 0.9712\n",
            "Epoch 7/20\n",
            "16549/16549 [==============================] - 72s 4ms/step - loss: 10.4220 - acc: 0.9552 - val_loss: 7.7230 - val_acc: 0.9691\n",
            "Epoch 8/20\n",
            "16549/16549 [==============================] - 69s 4ms/step - loss: 9.4546 - acc: 0.9570 - val_loss: 7.4258 - val_acc: 0.9673\n",
            "Epoch 9/20\n",
            "16549/16549 [==============================] - 75s 5ms/step - loss: 9.3243 - acc: 0.9576 - val_loss: 6.5684 - val_acc: 0.9602\n",
            "Epoch 10/20\n",
            "16549/16549 [==============================] - 69s 4ms/step - loss: 8.6973 - acc: 0.9592 - val_loss: 4.2541 - val_acc: 0.9702\n",
            "Epoch 11/20\n",
            "16549/16549 [==============================] - 76s 5ms/step - loss: 8.2442 - acc: 0.9606 - val_loss: 9.4745 - val_acc: 0.9579\n",
            "Epoch 12/20\n",
            "16549/16549 [==============================] - 71s 4ms/step - loss: 8.1841 - acc: 0.9608 - val_loss: 7.1086 - val_acc: 0.9718\n",
            "Epoch 13/20\n",
            "16549/16549 [==============================] - 72s 4ms/step - loss: 7.7045 - acc: 0.9622 - val_loss: 3.1675 - val_acc: 0.9722\n",
            "Epoch 14/20\n",
            "16549/16549 [==============================] - 69s 4ms/step - loss: 7.1613 - acc: 0.9634 - val_loss: 3.3867 - val_acc: 0.9801\n",
            "Epoch 15/20\n",
            "16549/16549 [==============================] - 70s 4ms/step - loss: 7.0645 - acc: 0.9633 - val_loss: 4.5212 - val_acc: 0.9788\n",
            "Epoch 16/20\n",
            "16549/16549 [==============================] - 70s 4ms/step - loss: 6.9310 - acc: 0.9637 - val_loss: 4.0282 - val_acc: 0.9663\n",
            "Epoch 17/20\n",
            "16549/16549 [==============================] - 71s 4ms/step - loss: 6.3455 - acc: 0.9650 - val_loss: 3.5513 - val_acc: 0.9709\n",
            "Epoch 18/20\n",
            "16549/16549 [==============================] - 69s 4ms/step - loss: 5.9994 - acc: 0.9653 - val_loss: 2.4989 - val_acc: 0.9711\n",
            "Epoch 19/20\n",
            "16549/16549 [==============================] - 69s 4ms/step - loss: 5.6303 - acc: 0.9664 - val_loss: 3.7984 - val_acc: 0.9559\n",
            "Epoch 20/20\n",
            "16549/16549 [==============================] - 71s 4ms/step - loss: 5.4652 - acc: 0.9664 - val_loss: 7.7431 - val_acc: 0.9614\n"
          ]
        }
      ]
    },
    {
      "cell_type": "markdown",
      "source": [
        "**BƯỚC 5: KIỂM TRA CHẤT LƯỢNG**"
      ],
      "metadata": {
        "id": "hb7qjCYYqflb"
      }
    },
    {
      "cell_type": "code",
      "source": [
        "score=model.evaluate(x_test,y_test,verbose=0)\n",
        "print('sai so kiem tra la',score[0])\n",
        "print('do chinh xac kiem tra',score[1])\n",
        "plot_history(history)"
      ],
      "metadata": {
        "colab": {
          "base_uri": "https://localhost:8080/",
          "height": 550
        },
        "id": "O4TDP5MRsIxn",
        "outputId": "aca2b565-fc20-430b-bbc5-671a2f577a9f"
      },
      "execution_count": 11,
      "outputs": [
        {
          "output_type": "stream",
          "name": "stdout",
          "text": [
            "sai so kiem tra la 7.730702877044678\n",
            "do chinh xac kiem tra 0.9610115885734558\n"
          ]
        },
        {
          "output_type": "display_data",
          "data": {
            "text/plain": [
              "<Figure size 576x576 with 2 Axes>"
            ],
            "image/png": "[encoded data removed]"
          },
          "metadata": {
            "needs_background": "light"
          }
        }
      ]
    },
    {
      "cell_type": "markdown",
      "source": [
        "**BƯỚC 6: DỰ ĐOÁN**"
      ],
      "metadata": {
        "id": "shUgoIuMqjoz"
      }
    },
    {
      "cell_type": "code",
      "source": [
        "px = float(input(\"nhập px : \"))\n",
        "py = float(input(\"nhập py : \"))\n",
        "fi = float(input(\"nhập fi : \"))\n",
        "test = model.predict([[px,py,fi]])\n",
        "t1 = test[0][0]\n",
        "t2 = test[0][1]\n",
        "t3 = test[0][2]\n",
        "x=50*math.cos(math.radians(t1))+40*math.cos(math.radians(t1+t2))+30*math.cos(math.radians(t1+t2+t3))\n",
        "y=50*math.sin(math.radians(t1))+40*math.sin(math.radians(t1+t2))+30*math.sin(math.radians(t1+t2+t3))\n",
        "print(\"Dự đoán : \" + \"t1: \" + str(t1) + \", \" + \"t2: \" + str(t2) + \"t3: \" + str(t3))\n",
        "print(\"Dự đoán : \" + \"px: \" + str(x) + \", \" + \"py: \" + str(y))"
      ],
      "metadata": {
        "colab": {
          "base_uri": "https://localhost:8080/"
        },
        "id": "sylMpySwssON",
        "outputId": "c32d0c49-f57e-4731-ae18-77cb9238b195"
      },
      "execution_count": 17,
      "outputs": [
        {
          "output_type": "stream",
          "name": "stdout",
          "text": [
            "nhập px : 60\n",
            "nhập py : 70\n",
            "nhập fi : 90\n",
            "Dự đoán : t1: 1.1734734, t2: 74.48025t3: 13.823021\n",
            "Dự đoán : px: 60.17475688749847, py: 69.77536170578604\n"
          ]
        }
      ]
    },
    {
      "cell_type": "markdown",
      "source": [
        "**BƯỚC 7: LƯU MODEL**"
      ],
      "metadata": {
        "id": "f6RQZRmpqpJO"
      }
    },
    {
      "cell_type": "code",
      "source": [
        "model.save('Robot_3dof.h5')"
      ],
      "metadata": {
        "id": "yDFkHo12qyoY"
      },
      "execution_count": null,
      "outputs": []
    }
  ]
}